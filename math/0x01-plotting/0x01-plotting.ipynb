{
 "cells": [
  {
   "cell_type": "markdown",
   "id": "e526f31f",
   "metadata": {},
   "source": [
    "# Plotting"
   ]
  },
  {
   "cell_type": "code",
   "execution_count": 42,
   "id": "ff426db7",
   "metadata": {},
   "outputs": [],
   "source": [
    "import numpy as np\n",
    "import matplotlib.pyplot as plt"
   ]
  },
  {
   "cell_type": "markdown",
   "id": "008d1cec",
   "metadata": {},
   "source": [
    "## Line Graph"
   ]
  },
  {
   "cell_type": "code",
   "execution_count": 43,
   "id": "9b5b0ebd",
   "metadata": {},
   "outputs": [],
   "source": [
    "# from 0 to 11 to the power of 3 \n",
    "y = np.arange(0, 11) ** 3"
   ]
  },
  {
   "cell_type": "code",
   "execution_count": 44,
   "id": "132536ee",
   "metadata": {},
   "outputs": [
    {
     "data": {
      "text/plain": [
       "array([   0,    1,    8,   27,   64,  125,  216,  343,  512,  729, 1000])"
      ]
     },
     "execution_count": 44,
     "metadata": {},
     "output_type": "execute_result"
    }
   ],
   "source": [
    "y"
   ]
  },
  {
   "cell_type": "code",
   "execution_count": 45,
   "id": "79c65fc6",
   "metadata": {},
   "outputs": [
    {
     "data": {
      "text/plain": [
       "(0.0, 10.0)"
      ]
     },
     "execution_count": 45,
     "metadata": {},
     "output_type": "execute_result"
    },
    {
     "data": {
      "image/png": "[encoded data removed]",
      "text/plain": [
       "<Figure size 432x288 with 1 Axes>"
      ]
     },
     "metadata": {
      "needs_background": "light"
     },
     "output_type": "display_data"
    }
   ],
   "source": [
    "plt.plot(np.arange(0, 11), y, 'r')\n",
    "plt.xlim(0, 10)"
   ]
  },
  {
   "cell_type": "markdown",
   "id": "dd9660ac",
   "metadata": {},
   "source": [
    "## Scatter"
   ]
  },
  {
   "cell_type": "code",
   "execution_count": 46,
   "id": "c7555ba2",
   "metadata": {},
   "outputs": [],
   "source": [
    "mean = [69, 0]\n",
    "cov = [[15, 8], [8, 15]]\n",
    "np.random.seed(5)\n",
    "x, y = np.random.multivariate_normal(mean, cov, 2000).T\n",
    "y += 180"
   ]
  },
  {
   "cell_type": "code",
   "execution_count": 57,
   "id": "3d1183a0",
   "metadata": {},
   "outputs": [
    {
     "data": {
      "text/plain": [
       "Text(0, 0.5, 'Wight (lbs)')"
      ]
     },
     "execution_count": 57,
     "metadata": {},
     "output_type": "execute_result"
    },
    {
     "data": {
      "image/png": "[encoded data removed]",
      "text/plain": [
       "<Figure size 432x288 with 1 Axes>"
      ]
     },
     "metadata": {
      "needs_background": "light"
     },
     "output_type": "display_data"
    }
   ],
   "source": [
    "plt.scatter(x, y, color='m')\n",
    "plt.xlabel('Height (in)')\n",
    "plt.ylabel('Wight (lbs)')"
   ]
  },
  {
   "cell_type": "markdown",
   "id": "aa786180",
   "metadata": {},
   "source": [
    "## Change of Scale"
   ]
  },
  {
   "cell_type": "code",
   "execution_count": 48,
   "id": "127001cd",
   "metadata": {},
   "outputs": [],
   "source": [
    "x = np.arange(0, 28651, 5730)\n",
    "r = np.log(0.5)\n",
    "t = 5730\n",
    "y = np.exp((r / t) * x)"
   ]
  },
  {
   "cell_type": "code",
   "execution_count": 49,
   "id": "45014329",
   "metadata": {},
   "outputs": [
    {
     "data": {
      "text/plain": [
       "array([    0,  5730, 11460, 17190, 22920, 28650])"
      ]
     },
     "execution_count": 49,
     "metadata": {},
     "output_type": "execute_result"
    }
   ],
   "source": [
    "x"
   ]
  },
  {
   "cell_type": "code",
   "execution_count": 50,
   "id": "bbe857b5",
   "metadata": {},
   "outputs": [
    {
     "data": {
      "text/plain": [
       "-0.6931471805599453"
      ]
     },
     "execution_count": 50,
     "metadata": {},
     "output_type": "execute_result"
    }
   ],
   "source": [
    "r"
   ]
  },
  {
   "cell_type": "code",
   "execution_count": 51,
   "id": "9bdbe3a7",
   "metadata": {},
   "outputs": [
    {
     "data": {
      "text/plain": [
       "5730"
      ]
     },
     "execution_count": 51,
     "metadata": {},
     "output_type": "execute_result"
    }
   ],
   "source": [
    "t"
   ]
  },
  {
   "cell_type": "code",
   "execution_count": 52,
   "id": "294ccf37",
   "metadata": {},
   "outputs": [
    {
     "data": {
      "text/plain": [
       "array([1.     , 0.5    , 0.25   , 0.125  , 0.0625 , 0.03125])"
      ]
     },
     "execution_count": 52,
     "metadata": {},
     "output_type": "execute_result"
    }
   ],
   "source": [
    "y"
   ]
  },
  {
   "cell_type": "code",
   "execution_count": 53,
   "id": "c401be08",
   "metadata": {},
   "outputs": [
    {
     "data": {
      "text/plain": [
       "(0.0, 28650.0)"
      ]
     },
     "execution_count": 53,
     "metadata": {},
     "output_type": "execute_result"
    },
    {
     "data": {
      "image/png": "[encoded data removed]",
      "text/plain": [
       "<Figure size 432x288 with 1 Axes>"
      ]
     },
     "metadata": {
      "needs_background": "light"
     },
     "output_type": "display_data"
    }
   ],
   "source": [
    "plt.plot(x, y)\n",
    "plt.xlabel('Time (years)')\n",
    "plt.ylabel('Fraction Remaining')\n",
    "plt.title('Exponential Decay of C-14')\n",
    "plt.yscale('log')\n",
    "plt.xlim(0, 28650)"
   ]
  },
  {
   "cell_type": "code",
   "execution_count": null,
   "id": "1f768c79",
   "metadata": {},
   "outputs": [],
   "source": []
  }
 ],
 "metadata": {
  "kernelspec": {
   "display_name": "Python 3 (ipykernel)",
   "language": "python",
   "name": "python3"
  },
  "language_info": {
   "codemirror_mode": {
    "name": "ipython",
    "version": 3
   },
   "file_extension": ".py",
   "mimetype": "text/x-python",
   "name": "python",
   "nbconvert_exporter": "python",
   "pygments_lexer": "ipython3",
   "version": "3.9.7"
  }
 },
 "nbformat": 4,
 "nbformat_minor": 5
}
