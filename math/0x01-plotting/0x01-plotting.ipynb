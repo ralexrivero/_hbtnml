{
 "cells": [
  {
   "cell_type": "markdown",
   "id": "0f2fabb2",
   "metadata": {},
   "source": [
    "# Plotting"
   ]
  },
  {
   "cell_type": "code",
   "execution_count": 4,
   "id": "31ec9eef",
   "metadata": {},
   "outputs": [],
   "source": [
    "import numpy as np\n",
    "import matplotlib.pyplot as plt"
   ]
  },
  {
   "cell_type": "markdown",
   "id": "0c22bdd4",
   "metadata": {},
   "source": [
    "## Line Graph"
   ]
  },
  {
   "cell_type": "code",
   "execution_count": 6,
   "id": "12d3a92a",
   "metadata": {},
   "outputs": [],
   "source": [
    "# from 0 to 11 to the power of 3 \n",
    "y = np.arange(0, 11) ** 3"
   ]
  },
  {
   "cell_type": "code",
   "execution_count": 7,
   "id": "21ab6652",
   "metadata": {},
   "outputs": [
    {
     "data": {
      "text/plain": [
       "array([   0,    1,    8,   27,   64,  125,  216,  343,  512,  729, 1000])"
      ]
     },
     "execution_count": 7,
     "metadata": {},
     "output_type": "execute_result"
    }
   ],
   "source": [
    "y"
   ]
  },
  {
   "cell_type": "code",
   "execution_count": 8,
   "id": "fee9a38b",
   "metadata": {},
   "outputs": [
    {
     "data": {
      "text/plain": [
       "[<matplotlib.lines.Line2D at 0x7fc5b2c57dc0>]"
      ]
     },
     "execution_count": 8,
     "metadata": {},
     "output_type": "execute_result"
    },
    {
     "data": {
      "image/png": "[encoded data removed]",
      "text/plain": [
       "<Figure size 432x288 with 1 Axes>"
      ]
     },
     "metadata": {
      "needs_background": "light"
     },
     "output_type": "display_data"
    }
   ],
   "source": [
    "plt.plot(np.arange(0, 11), y, 'r')"
   ]
  },
  {
   "cell_type": "markdown",
   "id": "a17d19da",
   "metadata": {},
   "source": [
    "## Scatter"
   ]
  },
  {
   "cell_type": "code",
   "execution_count": 12,
   "id": "4887d6fd",
   "metadata": {},
   "outputs": [],
   "source": [
    "mean = [69, 0]\n",
    "cov = [[15, 8], [8, 15]]\n",
    "np.random.seed(5)\n",
    "x, y = np.random.multivariate_normal(mean, cov, 2000).T\n",
    "y += 180"
   ]
  },
  {
   "cell_type": "code",
   "execution_count": null,
   "id": "61bf12d9",
   "metadata": {},
   "outputs": [],
   "source": [
    "plt.scatter()"
   ]
  }
 ],
 "metadata": {
  "kernelspec": {
   "display_name": "Python 3 (ipykernel)",
   "language": "python",
   "name": "python3"
  },
  "language_info": {
   "codemirror_mode": {
    "name": "ipython",
    "version": 3
   },
   "file_extension": ".py",
   "mimetype": "text/x-python",
   "name": "python",
   "nbconvert_exporter": "python",
   "pygments_lexer": "ipython3",
   "version": "3.9.7"
  }
 },
 "nbformat": 4,
 "nbformat_minor": 5
}
