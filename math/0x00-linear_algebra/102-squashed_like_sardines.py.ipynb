{
 "cells": [
  {
   "cell_type": "code",
   "execution_count": 463,
   "id": "c869fcc0",
   "metadata": {},
   "outputs": [],
   "source": [
    "def matrix_shape(matrix):\n",
    "    \"\"\" Shape size of a matrix \"\"\"\n",
    "    shape = []\n",
    "    while isinstance(matrix, list):\n",
    "        shape.append(len(matrix))\n",
    "        matrix = matrix[0]\n",
    "    return shape"
   ]
  },
  {
   "cell_type": "code",
   "execution_count": 464,
   "id": "da89eec6",
   "metadata": {},
   "outputs": [],
   "source": [
    "def cat_matrices(mat1, mat2, axis=0):\n",
    "    \"\"\" concatenate two matrices along a specific axis \"\"\"\n",
    "    # size control\n",
    "    cated = []\n",
    "    s1 = matrix_shape(mat1)\n",
    "    s2 = matrix_shape(mat2)\n",
    "    \n",
    "    ndim = len(s1)\n",
    "    print('shape: ', s1)\n",
    "    print('ndim: ', ndim)\n",
    "    print('axis: ', axis)\n",
    "    \n",
    "    if s1 != s2:  # control shape\n",
    "        return None\n",
    "    elif ndim <= axis:  # control axis on dimension\n",
    "        return None\n",
    "    elif ndim == 1:  # 1D Array\n",
    "        if axis == 0:\n",
    "            cated = mat1 + mat2\n",
    "        else:\n",
    "            return None\n",
    "    elif ndim == 2:  # 2D Array\n",
    "        if axis == 0:\n",
    "            for row1 in mat1:\n",
    "                cated.append(row1)\n",
    "            for row2 in mat2:\n",
    "                cated.append(row2)\n",
    "        elif axis == 1:\n",
    "            for i in range(s1[0]):\n",
    "                cated.append(mat1[i] + mat2[i])\n",
    "        else:\n",
    "            return None\n",
    "    elif ndim == 3:  # 3D Array\n",
    "        if axis == 0:\n",
    "            for row1 in mat1:\n",
    "                cated.append(row1)\n",
    "            for row2 in mat2:\n",
    "                cated.append(row2)\n",
    "        elif axis == 1:\n",
    "            for i in range(s1[0]):\n",
    "                cated[i].append(mat1[i] + mat2[i])\n",
    "        elif axis == 2:\n",
    "            for i in range(s1[0]):\n",
    "                cated.append([])\n",
    "                for j in range(s1[1]):\n",
    "                    cated[i].append([])\n",
    "                    cated[i][j].append(mat1[i][j] + mat2[i][j])\n",
    "        else:\n",
    "            return\n",
    "    elif ndim == 4:  # 4D Array\n",
    "        if axis == 0:\n",
    "            for row1 in mat1:\n",
    "                cated.append(row1)\n",
    "            for row2 in mat2:\n",
    "                cated.append(row2)\n",
    "        elif axis == 1:\n",
    "            for i in range(s1[0]):\n",
    "                cated.append([])\n",
    "                cated[i].append(mat1[i] + mat2[i])\n",
    "        elif axis == 2:\n",
    "            for i in range(s1[0]):\n",
    "                cated.append([])\n",
    "                for j in range(s1[1]):\n",
    "                    cated[i].append(mat1[i][j] + mat2[i][j])\n",
    "        elif axis == 3:\n",
    "            for i in range(s1[0]):\n",
    "                cated.append([])\n",
    "                for j in range(s1[1]):\n",
    "                    cated[i].append([])\n",
    "                    for k in range(s1[2]):\n",
    "                        cated[i][j].append(mat1[i][j][k] + mat2[i][j][k])\n",
    "        else:\n",
    "            return\n",
    "    else:\n",
    "        return cated  # Not handled more than 4 dimensional arrays\n",
    "\n",
    "    return cated"
   ]
  },
  {
   "cell_type": "code",
   "execution_count": 465,
   "id": "46242a08",
   "metadata": {},
   "outputs": [
    {
     "name": "stdout",
     "output_type": "stream",
     "text": [
      "shape:  [2, 3, 2, 1]\n",
      "ndim:  4\n",
      "axis:  1\n",
      "0.002848386764526367\n",
      "[[[[[1], [2]], [[3], [4]], [[5], [6]], [[1], [2]], [[3], [4]], [[5], [6]]]], [[[[7], [8]], [[9], [10]], [[11], [12]], [[7], [8]], [[9], [10]], [[11], [12]]]]]\n",
      "0.00018525123596191406 \n",
      "\n"
     ]
    }
   ],
   "source": [
    "import numpy as np\n",
    "import time\n",
    "\n",
    "mat3 = [[[[1], [2]],\n",
    "         [[3], [4]],\n",
    "         [[5], [6]]],\n",
    "        [[[7], [8]],\n",
    "         [[9], [10]],\n",
    "         [[11], [12]]]]\n",
    "mat4 = [[[[1], [2]],\n",
    "         [[3], [4]],\n",
    "         [[5], [6]]],\n",
    "        [[[7], [8]],\n",
    "         [[9], [10]],\n",
    "         [[11], [12]]]]\n",
    "np_mat3 = np.array(mat3)\n",
    "np_mat4 = np.array(mat4)\n",
    "\n",
    "t0 = time.time()\n",
    "m = cat_matrices(mat3, mat4, axis=1)\n",
    "t1 = time.time()\n",
    "print(t1 - t0)\n",
    "print(m)\n",
    "t0 = time.time()\n",
    "np.concatenate((np_mat3, np_mat4), axis=1)\n",
    "t1 = time.time()\n",
    "print(t1 - t0, \"\\n\")\n"
   ]
  },
  {
   "cell_type": "code",
   "execution_count": 466,
   "id": "fe868127",
   "metadata": {},
   "outputs": [
    {
     "data": {
      "text/plain": [
       "[2, 3, 2, 1]"
      ]
     },
     "execution_count": 466,
     "metadata": {},
     "output_type": "execute_result"
    }
   ],
   "source": [
    "matrix_shape(mat3)"
   ]
  },
  {
   "cell_type": "code",
   "execution_count": 467,
   "id": "1ffe0fd1",
   "metadata": {},
   "outputs": [
    {
     "data": {
      "text/plain": [
       "[2, 1, 6, 2, 1]"
      ]
     },
     "execution_count": 467,
     "metadata": {},
     "output_type": "execute_result"
    }
   ],
   "source": [
    "matrix_shape(m)"
   ]
  },
  {
   "cell_type": "code",
   "execution_count": null,
   "id": "45e81a7d",
   "metadata": {},
   "outputs": [],
   "source": []
  }
 ],
 "metadata": {
  "kernelspec": {
   "display_name": "Python 3 (ipykernel)",
   "language": "python",
   "name": "python3"
  },
  "language_info": {
   "codemirror_mode": {
    "name": "ipython",
    "version": 3
   },
   "file_extension": ".py",
   "mimetype": "text/x-python",
   "name": "python",
   "nbconvert_exporter": "python",
   "pygments_lexer": "ipython3",
   "version": "3.9.7"
  }
 },
 "nbformat": 4,
 "nbformat_minor": 5
}
