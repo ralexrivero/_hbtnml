{
 "cells": [
  {
   "cell_type": "markdown",
   "id": "f4b75340",
   "metadata": {},
   "source": [
    "## Slice like a ninja"
   ]
  },
  {
   "cell_type": "code",
   "execution_count": 58,
   "id": "d0373137",
   "metadata": {},
   "outputs": [],
   "source": [
    "import numpy as np"
   ]
  },
  {
   "cell_type": "code",
   "execution_count": 59,
   "id": "fc8012ed",
   "metadata": {},
   "outputs": [],
   "source": [
    "mat1 = np.array([[1, 2, 3, 4, 5], [6, 7, 8, 9, 10]])"
   ]
  },
  {
   "cell_type": "code",
   "execution_count": 60,
   "id": "7e7ba58f",
   "metadata": {},
   "outputs": [],
   "source": [
    "mat2 = np.array([[[1, 2, 3, 4, 5], [6, 7, 8, 9, 10]],\n",
    "                 [[11, 12, 13, 14, 15], [16, 17, 18, 19, 20]],\n",
    "                 [[21, 22, 23, 24, 25], [26, 27, 28, 29, 30]]])"
   ]
  },
  {
   "cell_type": "code",
   "execution_count": 61,
   "id": "f2649b92",
   "metadata": {},
   "outputs": [
    {
     "name": "stdout",
     "output_type": "stream",
     "text": [
      "size: 10, dimensions: 2, type: <class 'numpy.ndarray'>, shape: (2, 5)\n"
     ]
    }
   ],
   "source": [
    "# Data about the matrix\n",
    "print(\"size: {}, dimensions: {}, type: {}, shape: {}\".format(mat1.size, mat1.ndim, type(mat1), mat1.shape))"
   ]
  },
  {
   "cell_type": "code",
   "execution_count": 62,
   "id": "b5b64c5d",
   "metadata": {},
   "outputs": [
    {
     "data": {
      "text/plain": [
       "1"
      ]
     },
     "execution_count": 62,
     "metadata": {},
     "output_type": "execute_result"
    }
   ],
   "source": [
    "axes={1: (1, 3)}\n",
    "len(axes)"
   ]
  },
  {
   "cell_type": "code",
   "execution_count": 63,
   "id": "ea7ec705",
   "metadata": {},
   "outputs": [],
   "source": [
    "def np_slice(matrix, axes={}):\n",
    "    \"\"\" slice a matrix \"\"\"\n",
    "    for key, val in axes.items():\n",
    "        return matrix[:,val[0]:val[1]]"
   ]
  },
  {
   "cell_type": "code",
   "execution_count": 64,
   "id": "658c3853",
   "metadata": {},
   "outputs": [
    {
     "name": "stdout",
     "output_type": "stream",
     "text": [
      "[[2 3]\n",
      " [7 8]]\n"
     ]
    }
   ],
   "source": [
    "print(np_slice(mat1, axes={1: (1, 3)}))"
   ]
  },
  {
   "cell_type": "code",
   "execution_count": 65,
   "id": "07b01357",
   "metadata": {},
   "outputs": [
    {
     "name": "stdout",
     "output_type": "stream",
     "text": [
      "[[ 2  3  4  5]\n",
      " [ 7  8  9 10]]\n"
     ]
    }
   ],
   "source": [
    "print(np_slice(mat1, axes={1: (1, None)}))"
   ]
  },
  {
   "cell_type": "code",
   "execution_count": 66,
   "id": "dbc770c6",
   "metadata": {},
   "outputs": [
    {
     "data": {
      "text/plain": [
       "array([[1],\n",
       "       [6]])"
      ]
     },
     "execution_count": 66,
     "metadata": {},
     "output_type": "execute_result"
    }
   ],
   "source": [
    "mat1.take(range(1,), 1)"
   ]
  },
  {
   "cell_type": "code",
   "execution_count": 74,
   "id": "cb915f23",
   "metadata": {},
   "outputs": [
    {
     "data": {
      "text/plain": [
       "array([1, 2, 3, 4, 5, 6])"
      ]
     },
     "execution_count": 74,
     "metadata": {},
     "output_type": "execute_result"
    }
   ],
   "source": [
    "x = np.arange(1,7)\n",
    "x"
   ]
  },
  {
   "cell_type": "code",
   "execution_count": 76,
   "id": "96472c88",
   "metadata": {},
   "outputs": [],
   "source": [
    "x = x.reshape(2,3,1)"
   ]
  },
  {
   "cell_type": "code",
   "execution_count": 77,
   "id": "e931878b",
   "metadata": {},
   "outputs": [
    {
     "data": {
      "text/plain": [
       "array([[[1],\n",
       "        [2],\n",
       "        [3]],\n",
       "\n",
       "       [[4],\n",
       "        [5],\n",
       "        [6]]])"
      ]
     },
     "execution_count": 77,
     "metadata": {},
     "output_type": "execute_result"
    }
   ],
   "source": [
    "x"
   ]
  },
  {
   "cell_type": "code",
   "execution_count": 78,
   "id": "9b4bcf59",
   "metadata": {},
   "outputs": [
    {
     "data": {
      "text/plain": [
       "(2, 3, 1)"
      ]
     },
     "execution_count": 78,
     "metadata": {},
     "output_type": "execute_result"
    }
   ],
   "source": [
    "x.shape"
   ]
  },
  {
   "cell_type": "code",
   "execution_count": 79,
   "id": "ebcec89e",
   "metadata": {},
   "outputs": [
    {
     "data": {
      "text/plain": [
       "array([[[4],\n",
       "        [5],\n",
       "        [6]]])"
      ]
     },
     "execution_count": 79,
     "metadata": {},
     "output_type": "execute_result"
    }
   ],
   "source": [
    "x[1:10:5]"
   ]
  },
  {
   "cell_type": "code",
   "execution_count": 80,
   "id": "01ae3629",
   "metadata": {},
   "outputs": [
    {
     "data": {
      "text/plain": [
       "array([[[6],\n",
       "        [5],\n",
       "        [4]]])"
      ]
     },
     "execution_count": 80,
     "metadata": {},
     "output_type": "execute_result"
    }
   ],
   "source": [
    "x[1:10:5, ::-1]"
   ]
  },
  {
   "cell_type": "code",
   "execution_count": 81,
   "id": "40b295b0",
   "metadata": {},
   "outputs": [],
   "source": [
    "obj = (slice(1,10,5), slice(None, None, -1))"
   ]
  },
  {
   "cell_type": "code",
   "execution_count": 82,
   "id": "c97a16af",
   "metadata": {},
   "outputs": [
    {
     "data": {
      "text/plain": [
       "array([[[6],\n",
       "        [5],\n",
       "        [4]]])"
      ]
     },
     "execution_count": 82,
     "metadata": {},
     "output_type": "execute_result"
    }
   ],
   "source": [
    "x[obj]"
   ]
  },
  {
   "cell_type": "code",
   "execution_count": null,
   "id": "33cc8904",
   "metadata": {},
   "outputs": [],
   "source": []
  }
 ],
 "metadata": {
  "kernelspec": {
   "display_name": "Python 3 (ipykernel)",
   "language": "python",
   "name": "python3"
  },
  "language_info": {
   "codemirror_mode": {
    "name": "ipython",
    "version": 3
   },
   "file_extension": ".py",
   "mimetype": "text/x-python",
   "name": "python",
   "nbconvert_exporter": "python",
   "pygments_lexer": "ipython3",
   "version": "3.9.7"
  }
 },
 "nbformat": 4,
 "nbformat_minor": 5
}
