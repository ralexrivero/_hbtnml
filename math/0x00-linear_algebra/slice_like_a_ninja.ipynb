{
 "cells": [
  {
   "cell_type": "markdown",
   "id": "f4b75340",
   "metadata": {},
   "source": [
    "## Slice like a ninja"
   ]
  },
  {
   "cell_type": "code",
   "execution_count": 164,
   "id": "d0373137",
   "metadata": {},
   "outputs": [],
   "source": [
    "import numpy as np"
   ]
  },
  {
   "cell_type": "code",
   "execution_count": 165,
   "id": "fc8012ed",
   "metadata": {},
   "outputs": [],
   "source": [
    "matrix = np.array([[1, 2, 3, 4, 5], [6, 7, 8, 9, 10]])"
   ]
  },
  {
   "cell_type": "code",
   "execution_count": 166,
   "id": "7e7ba58f",
   "metadata": {},
   "outputs": [],
   "source": [
    "mat2 = np.array([[[1, 2, 3, 4, 5], [6, 7, 8, 9, 10]],\n",
    "                 [[11, 12, 13, 14, 15], [16, 17, 18, 19, 20]],\n",
    "                 [[21, 22, 23, 24, 25], [26, 27, 28, 29, 30]]])"
   ]
  },
  {
   "cell_type": "code",
   "execution_count": 167,
   "id": "f2649b92",
   "metadata": {},
   "outputs": [
    {
     "name": "stdout",
     "output_type": "stream",
     "text": [
      "size: 10, dimensions: 2, type: <class 'numpy.ndarray'>, shape: (2, 5)\n"
     ]
    }
   ],
   "source": [
    "# Data about the matrix\n",
    "print(\"size: {}, dimensions: {}, type: {}, shape: {}\".format(mat1.size, mat1.ndim, type(mat1), mat1.shape))"
   ]
  },
  {
   "cell_type": "code",
   "execution_count": 168,
   "id": "b5b64c5d",
   "metadata": {},
   "outputs": [
    {
     "data": {
      "text/plain": [
       "1"
      ]
     },
     "execution_count": 168,
     "metadata": {},
     "output_type": "execute_result"
    }
   ],
   "source": [
    "axes={1: (1, 3)}\n",
    "len(axes)"
   ]
  },
  {
   "cell_type": "code",
   "execution_count": 169,
   "id": "ea7ec705",
   "metadata": {},
   "outputs": [],
   "source": [
    "def np_slice(matrix, axes={}):\n",
    "    \"\"\" slice a matrix \"\"\"\n",
    "    for key, val in axes.items():\n",
    "        return matrix[:,val[0]:val[1]]"
   ]
  },
  {
   "cell_type": "code",
   "execution_count": 170,
   "id": "658c3853",
   "metadata": {},
   "outputs": [
    {
     "name": "stdout",
     "output_type": "stream",
     "text": [
      "[[2 3]\n",
      " [7 8]]\n"
     ]
    }
   ],
   "source": [
    "print(np_slice(mat1, axes={1: (1, 3)}))"
   ]
  },
  {
   "cell_type": "code",
   "execution_count": 171,
   "id": "5f9d3ab3",
   "metadata": {},
   "outputs": [
    {
     "data": {
      "text/plain": [
       "array([1, 2, 3, 4, 5])"
      ]
     },
     "execution_count": 171,
     "metadata": {},
     "output_type": "execute_result"
    }
   ],
   "source": [
    "matrix[0]"
   ]
  },
  {
   "cell_type": "code",
   "execution_count": 172,
   "id": "1e1be582",
   "metadata": {},
   "outputs": [
    {
     "data": {
      "text/plain": [
       "array([[ 1,  2,  3,  4,  5],\n",
       "       [ 6,  7,  8,  9, 10]])"
      ]
     },
     "execution_count": 172,
     "metadata": {},
     "output_type": "execute_result"
    }
   ],
   "source": [
    "matrix[:]"
   ]
  },
  {
   "cell_type": "code",
   "execution_count": 173,
   "id": "8e60f141",
   "metadata": {},
   "outputs": [
    {
     "data": {
      "text/plain": [
       "array([[ 1,  2,  3,  4,  5],\n",
       "       [ 6,  7,  8,  9, 10]])"
      ]
     },
     "execution_count": 173,
     "metadata": {},
     "output_type": "execute_result"
    }
   ],
   "source": [
    "matrix[0:]"
   ]
  },
  {
   "cell_type": "code",
   "execution_count": 183,
   "id": "aac10390",
   "metadata": {},
   "outputs": [
    {
     "data": {
      "text/plain": [
       "array([[1, 3],\n",
       "       [6, 8]])"
      ]
     },
     "execution_count": 183,
     "metadata": {},
     "output_type": "execute_result"
    }
   ],
   "source": [
    "matrix[:,0:4:2]"
   ]
  },
  {
   "cell_type": "code",
   "execution_count": null,
   "id": "f6535f89",
   "metadata": {},
   "outputs": [],
   "source": []
  }
 ],
 "metadata": {
  "kernelspec": {
   "display_name": "Python 3 (ipykernel)",
   "language": "python",
   "name": "python3"
  },
  "language_info": {
   "codemirror_mode": {
    "name": "ipython",
    "version": 3
   },
   "file_extension": ".py",
   "mimetype": "text/x-python",
   "name": "python",
   "nbconvert_exporter": "python",
   "pygments_lexer": "ipython3",
   "version": "3.9.7"
  }
 },
 "nbformat": 4,
 "nbformat_minor": 5
}
