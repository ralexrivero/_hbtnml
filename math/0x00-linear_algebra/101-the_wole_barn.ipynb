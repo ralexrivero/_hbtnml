{
 "cells": [
  {
   "cell_type": "code",
   "execution_count": 82,
   "id": "199d635f",
   "metadata": {},
   "outputs": [],
   "source": [
    "\"\"\" add matrices \"\"\"\n",
    "def matrix_shape(matrix):\n",
    "    \"\"\" Shape size of a matrix \"\"\"\n",
    "    shape = []\n",
    "    if matrix != []:\n",
    "        while isinstance(matrix, list):\n",
    "            shape.append(len(matrix))\n",
    "            matrix = matrix[0]\n",
    "    return shape"
   ]
  },
  {
   "cell_type": "code",
   "execution_count": 85,
   "id": "5b50f819",
   "metadata": {},
   "outputs": [],
   "source": [
    "def add_matrices(mat1, mat2):\n",
    "    \"\"\" add two matrices \"\"\"\n",
    "    # shape control\n",
    "    s1 = matrix_shape(mat1)\n",
    "    s2 = matrix_shape(mat2)\n",
    "    \n",
    "    if s1 != s2:\n",
    "        return None\n",
    "    \n",
    "    res = []\n",
    "    ndim = len(s1)\n",
    "    \n",
    "    if ndim == 1:\n",
    "        for i in range(s1[0]):\n",
    "            res.append(mat1[i] + mat2[i])\n",
    "    elif ndim == 2:\n",
    "        for i in range(s1[0]):\n",
    "            res.append([])\n",
    "            for j in range(s1[1]):\n",
    "                res[i].append(mat1[i][j] + mat2[i][j])\n",
    "    elif ndim == 3:\n",
    "        for i in range(s1[0]):\n",
    "            res.append([])\n",
    "            for j in range(s1[1]):\n",
    "                res[i].append([])\n",
    "                for k in range(s1[2]):\n",
    "                    res[i][j].append(mat1[i][j][k] + mat2[i][j][k])\n",
    "    elif ndim == 4:\n",
    "        for i in range(s1[0]):\n",
    "            res.append([])\n",
    "            for j in range(s1[1]):\n",
    "                res[i].append([])\n",
    "                for k in range(s1[2]):\n",
    "                    res[i][j].append([])\n",
    "                    for l in range(s1[3]):\n",
    "                        res[i][j][k].append(mat1[i][j][k][l] + mat2[i][j][k][l])\n",
    "    else:\n",
    "        return\n",
    "\n",
    "    return res"
   ]
  },
  {
   "cell_type": "code",
   "execution_count": 86,
   "id": "7e08c4d6",
   "metadata": {},
   "outputs": [
    {
     "name": "stdout",
     "output_type": "stream",
     "text": [
      "dimensions: 1, shape: [3]\n",
      "[5, 7, 9]\n",
      "dimensions: 2, shape: [3, 3]\n",
      "[[6, 8, 10], [10, 12, 14], [22, 24, 26]]\n",
      "dimensions: 3, shape: [3, 2, 1]\n",
      "[[[2], [2]], [[4], [4]], [[6], [6]]]\n",
      "dimensions: 4, shape: [2, 3, 2, 4]\n",
      "[[[[12, 14, 16, 18], [20, 22, 24, 26]], [[28, 120, 122, 124], [126, 128, 130, 132]], [[134, 136, 138, 140], [142, 144, 146, 148]]], [[[150, 152, 154, 156], [158, 160, 162, 164]], [[166, 168, 170, 172], [174, 176, 178, 180]], [[182, 184, 186, 188], [190, 192, 194, 196]]]]\n",
      "dimensions: 4, shape: [2, 2, 2, 4]\n",
      "[[[[22, 24, 26, 28], [30, 32, 34, 36]], [[234, 236, 238, 240], [242, 244, 246, 248]]], [[[250, 252, 254, 256], [258, 260, 262, 264]], [[282, 284, 286, 288], [290, 292, 294, 296]]]]\n"
     ]
    }
   ],
   "source": [
    "mat1 = [1, 2, 3]\n",
    "mat2 = [4, 5, 6]\n",
    "mat3 = [[1, 2, 3], [3, 4, 5], [10, 11, 12]]\n",
    "mat4 = [[5, 6, 7], [7, 8, 9], [12, 13, 14]]\n",
    "mat5 = [[[[1, 2, 3, 4], [5, 6, 7, 8]],\n",
    "         [[9, 10, 11, 12], [13, 14, 15, 16]],\n",
    "         [[17, 18, 19, 20], [21, 22, 23, 24]]],\n",
    "        [[[25, 26, 27, 28], [29, 30, 31, 32]],\n",
    "         [[33, 34, 35, 36], [37, 38, 39, 40]],\n",
    "         [[41, 42, 43, 44], [45, 46, 47, 48]]]]\n",
    "mat6 = [[[[11, 12, 13, 14], [15, 16, 17, 18]],\n",
    "         [[19, 110, 111, 112], [113, 114, 115, 116]],\n",
    "         [[117, 118, 119, 120], [121, 122, 123, 124]]],\n",
    "        [[[125, 126, 127, 128], [129, 130, 131, 132]],\n",
    "         [[133, 134, 135, 136], [137, 138, 139, 140]],\n",
    "         [[141, 142, 143, 144], [145, 146, 147, 148]]]]\n",
    "mat7 = [[[[11, 12, 13, 14], [15, 16, 17, 18]],\n",
    "         [[117, 118, 119, 120], [121, 122, 123, 124]]],\n",
    "        [[[125, 126, 127, 128], [129, 130, 131, 132]],\n",
    "         [[141, 142, 143, 144], [145, 146, 147, 148]]]]\n",
    "mat8 = [[[1],[1]],\n",
    "       [[2], [2]],\n",
    "       [[3], [3]]]\n",
    "mat9 = [[[1],[1]],\n",
    "       [[2], [2]],\n",
    "       [[3], [3]]]\n",
    "print('dimensions: {}, shape: {}'.format(len(matrix_shape(mat1)), matrix_shape(mat1)))\n",
    "print(add_matrices(mat1, mat2))\n",
    "print('dimensions: {}, shape: {}'.format(len(matrix_shape(mat3)), matrix_shape(mat3)))\n",
    "print(add_matrices(mat3, mat4))\n",
    "print('dimensions: {}, shape: {}'.format(len(matrix_shape(mat8)), matrix_shape(mat9)))\n",
    "print(add_matrices(mat8, mat9))\n",
    "print('dimensions: {}, shape: {}'.format(len(matrix_shape(mat5)), matrix_shape(mat5)))\n",
    "print(add_matrices(mat5, mat6))\n",
    "print('dimensions: {}, shape: {}'.format(len(matrix_shape(mat7)), matrix_shape(mat7)))\n",
    "print(add_matrices(mat7, mat7))"
   ]
  },
  {
   "cell_type": "code",
   "execution_count": null,
   "id": "d01e874c",
   "metadata": {},
   "outputs": [],
   "source": []
  }
 ],
 "metadata": {
  "kernelspec": {
   "display_name": "Python 3 (ipykernel)",
   "language": "python",
   "name": "python3"
  },
  "language_info": {
   "codemirror_mode": {
    "name": "ipython",
    "version": 3
   },
   "file_extension": ".py",
   "mimetype": "text/x-python",
   "name": "python",
   "nbconvert_exporter": "python",
   "pygments_lexer": "ipython3",
   "version": "3.9.7"
  }
 },
 "nbformat": 4,
 "nbformat_minor": 5
}
