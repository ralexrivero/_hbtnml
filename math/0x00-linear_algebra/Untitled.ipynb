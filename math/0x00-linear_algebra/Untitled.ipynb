{
 "cells": [
  {
   "cell_type": "code",
   "execution_count": 2,
   "id": "e19ba0c2",
   "metadata": {},
   "outputs": [],
   "source": [
    "import numpy as np"
   ]
  },
  {
   "cell_type": "code",
   "execution_count": 3,
   "id": "7b739a73",
   "metadata": {},
   "outputs": [],
   "source": [
    "mat1 = np.array(\n",
    "                [\n",
    "                    [1, 2, 3, 4, 5],\n",
    "                    [6, 7, 8, 9, 10]\n",
    "                    ])"
   ]
  },
  {
   "cell_type": "code",
   "execution_count": 4,
   "id": "e53ac6b7",
   "metadata": {},
   "outputs": [
    {
     "data": {
      "text/plain": [
       "array([[2, 3],\n",
       "       [7, 8]])"
      ]
     },
     "execution_count": 4,
     "metadata": {},
     "output_type": "execute_result"
    }
   ],
   "source": [
    "# axes={1: (1, 3)}\n",
    "# ndarray.take(indices, axis=None, out=None, mode='raise')\n",
    "mat1.take(range(1,3), 1)"
   ]
  },
  {
   "cell_type": "code",
   "execution_count": 5,
   "id": "faba37c6",
   "metadata": {},
   "outputs": [],
   "source": [
    "# axes={0: (2,), 2: (None, None, -2)}\n",
    "mat2 = np.array(\n",
    "                [\n",
    "                    [\n",
    "                        [1, 2, 3, 4, 5],\n",
    "                        [6, 7, 8, 9, 10]\n",
    "                    ],\n",
    "                    [\n",
    "                        [11, 12, 13, 14, 15],\n",
    "                        [16, 17, 18, 19, 20]\n",
    "                    ],\n",
    "                    [\n",
    "                        [21, 22, 23, 24, 25],\n",
    "                        [26, 27, 28, 29, 30]\n",
    "                    ]\n",
    "                ])"
   ]
  },
  {
   "cell_type": "code",
   "execution_count": 6,
   "id": "fcffff06",
   "metadata": {},
   "outputs": [],
   "source": [
    "a = np.arange(24).reshape(2,3,4)"
   ]
  },
  {
   "cell_type": "code",
   "execution_count": 7,
   "id": "0651e446",
   "metadata": {},
   "outputs": [
    {
     "data": {
      "text/plain": [
       "array([[[ 0,  1,  2,  3],\n",
       "        [ 4,  5,  6,  7],\n",
       "        [ 8,  9, 10, 11]],\n",
       "\n",
       "       [[12, 13, 14, 15],\n",
       "        [16, 17, 18, 19],\n",
       "        [20, 21, 22, 23]]])"
      ]
     },
     "execution_count": 7,
     "metadata": {},
     "output_type": "execute_result"
    }
   ],
   "source": [
    "a"
   ]
  },
  {
   "cell_type": "code",
   "execution_count": 8,
   "id": "7a0c0a8a",
   "metadata": {},
   "outputs": [],
   "source": [
    "x = np.arange(10)"
   ]
  },
  {
   "cell_type": "code",
   "execution_count": 9,
   "id": "5caf119e",
   "metadata": {},
   "outputs": [
    {
     "data": {
      "text/plain": [
       "array([0, 1, 2, 3, 4, 5, 6, 7, 8, 9])"
      ]
     },
     "execution_count": 9,
     "metadata": {},
     "output_type": "execute_result"
    }
   ],
   "source": [
    "x"
   ]
  },
  {
   "cell_type": "code",
   "execution_count": 10,
   "id": "fe9d8fd6",
   "metadata": {},
   "outputs": [
    {
     "data": {
      "text/plain": [
       "2"
      ]
     },
     "execution_count": 10,
     "metadata": {},
     "output_type": "execute_result"
    }
   ],
   "source": [
    "x[2]"
   ]
  },
  {
   "cell_type": "code",
   "execution_count": 11,
   "id": "ff53584f",
   "metadata": {},
   "outputs": [],
   "source": [
    "x.shape = (2,5)"
   ]
  },
  {
   "cell_type": "code",
   "execution_count": 12,
   "id": "e7e2a294",
   "metadata": {},
   "outputs": [
    {
     "data": {
      "text/plain": [
       "array([[0, 1, 2, 3, 4],\n",
       "       [5, 6, 7, 8, 9]])"
      ]
     },
     "execution_count": 12,
     "metadata": {},
     "output_type": "execute_result"
    }
   ],
   "source": [
    "x"
   ]
  },
  {
   "cell_type": "code",
   "execution_count": 13,
   "id": "ff13b253",
   "metadata": {},
   "outputs": [
    {
     "data": {
      "text/plain": [
       "array([5, 6, 7, 8, 9])"
      ]
     },
     "execution_count": 13,
     "metadata": {},
     "output_type": "execute_result"
    }
   ],
   "source": [
    "x[1]"
   ]
  },
  {
   "cell_type": "code",
   "execution_count": 14,
   "id": "d90b6405",
   "metadata": {},
   "outputs": [
    {
     "data": {
      "text/plain": [
       "array([[ 1,  2,  3,  4,  5],\n",
       "       [ 6,  7,  8,  9, 10]])"
      ]
     },
     "execution_count": 14,
     "metadata": {},
     "output_type": "execute_result"
    }
   ],
   "source": [
    "mat1"
   ]
  },
  {
   "cell_type": "code",
   "execution_count": 16,
   "id": "5a5c6a1f",
   "metadata": {},
   "outputs": [],
   "source": [
    "axes={1: (1, 3)}"
   ]
  },
  {
   "cell_type": "code",
   "execution_count": 17,
   "id": "90a3c9e4",
   "metadata": {},
   "outputs": [
    {
     "data": {
      "text/plain": [
       "{1: (1, 3)}"
      ]
     },
     "execution_count": 17,
     "metadata": {},
     "output_type": "execute_result"
    }
   ],
   "source": [
    "axes"
   ]
  },
  {
   "cell_type": "code",
   "execution_count": 57,
   "id": "f298dca4",
   "metadata": {},
   "outputs": [
    {
     "data": {
      "text/plain": [
       "dict_items([(1, (1, 3))])"
      ]
     },
     "execution_count": 57,
     "metadata": {},
     "output_type": "execute_result"
    }
   ],
   "source": [
    "axes.items()"
   ]
  },
  {
   "cell_type": "code",
   "execution_count": 34,
   "id": "28049006",
   "metadata": {},
   "outputs": [
    {
     "data": {
      "text/plain": [
       "[slice(1, 1, 3)]"
      ]
     },
     "execution_count": 34,
     "metadata": {},
     "output_type": "execute_result"
    }
   ],
   "source": [
    "slice_obj"
   ]
  },
  {
   "cell_type": "code",
   "execution_count": 46,
   "id": "06a993f7",
   "metadata": {},
   "outputs": [
    {
     "data": {
      "text/plain": [
       "array([[2, 3],\n",
       "       [7, 8]])"
      ]
     },
     "execution_count": 46,
     "metadata": {},
     "output_type": "execute_result"
    }
   ],
   "source": [
    "mat1[:,1:3:]"
   ]
  },
  {
   "cell_type": "code",
   "execution_count": 50,
   "id": "25370ef1",
   "metadata": {},
   "outputs": [
    {
     "data": {
      "text/plain": [
       "array([[ 1,  2,  3,  4,  5],\n",
       "       [ 6,  7,  8,  9, 10]])"
      ]
     },
     "execution_count": 50,
     "metadata": {},
     "output_type": "execute_result"
    }
   ],
   "source": [
    "mat1[...]"
   ]
  },
  {
   "cell_type": "code",
   "execution_count": 54,
   "id": "05761ca1",
   "metadata": {},
   "outputs": [
    {
     "data": {
      "text/plain": [
       "array([[2, 3],\n",
       "       [7, 8]])"
      ]
     },
     "execution_count": 54,
     "metadata": {},
     "output_type": "execute_result"
    }
   ],
   "source": [
    "mat1[..., 1:3]"
   ]
  },
  {
   "cell_type": "code",
   "execution_count": 82,
   "id": "10949875",
   "metadata": {},
   "outputs": [
    {
     "data": {
      "text/plain": [
       "array([[2, 3],\n",
       "       [7, 8]])"
      ]
     },
     "execution_count": 82,
     "metadata": {},
     "output_type": "execute_result"
    }
   ],
   "source": [
    "slice_obj = [slice(None)] *(max(axes)+1)\n",
    "for key, val in axes.items():\n",
    "    slice_obj[key] = slice(*val)\n",
    "mat1[tuple(slice_obj)]"
   ]
  },
  {
   "cell_type": "code",
   "execution_count": 83,
   "id": "6643d7b6",
   "metadata": {},
   "outputs": [
    {
     "data": {
      "text/plain": [
       "[slice(None, None, None), slice(1, 3, None)]"
      ]
     },
     "execution_count": 83,
     "metadata": {},
     "output_type": "execute_result"
    }
   ],
   "source": [
    "slice_obj"
   ]
  },
  {
   "cell_type": "code",
   "execution_count": 86,
   "id": "30488653",
   "metadata": {},
   "outputs": [],
   "source": [
    "mat2 = np.array(\n",
    "                [\n",
    "                    [\n",
    "                        [1, 2, 3, 4, 5],\n",
    "                        [6, 7, 8, 9, 10]\n",
    "                    ],\n",
    "                    [\n",
    "                        [11, 12, 13, 14, 15],\n",
    "                        [16, 17, 18, 19, 20]\n",
    "                    ],\n",
    "                    [\n",
    "                        [21, 22, 23, 24, 25],\n",
    "                        [26, 27, 28, 29, 30]\n",
    "                    ]\n",
    "                ])\n",
    "axes={0: (2,), 2: (None, None, -2)}"
   ]
  },
  {
   "cell_type": "code",
   "execution_count": 90,
   "id": "e54c6195",
   "metadata": {},
   "outputs": [
    {
     "name": "stdout",
     "output_type": "stream",
     "text": [
      "(2,)\n",
      "(None, None, -2)\n"
     ]
    },
    {
     "data": {
      "text/plain": [
       "array([[[ 5,  3,  1],\n",
       "        [10,  8,  6]],\n",
       "\n",
       "       [[15, 13, 11],\n",
       "        [20, 18, 16]]])"
      ]
     },
     "execution_count": 90,
     "metadata": {},
     "output_type": "execute_result"
    }
   ],
   "source": [
    "slice_obj = [slice(None)] *(max(axes)+1)\n",
    "for key, val in axes.items():\n",
    "    print(val)\n",
    "    slice_obj[key] = slice(* val)\n",
    "mat2[tuple(slice_obj)]"
   ]
  },
  {
   "cell_type": "code",
   "execution_count": null,
   "id": "5c3d5613",
   "metadata": {},
   "outputs": [],
   "source": []
  }
 ],
 "metadata": {
  "kernelspec": {
   "display_name": "Python 3 (ipykernel)",
   "language": "python",
   "name": "python3"
  },
  "language_info": {
   "codemirror_mode": {
    "name": "ipython",
    "version": 3
   },
   "file_extension": ".py",
   "mimetype": "text/x-python",
   "name": "python",
   "nbconvert_exporter": "python",
   "pygments_lexer": "ipython3",
   "version": "3.9.7"
  }
 },
 "nbformat": 4,
 "nbformat_minor": 5
}
